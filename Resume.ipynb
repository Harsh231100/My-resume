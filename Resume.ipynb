{
 "cells": [
  {
   "cell_type": "markdown",
   "id": "a3070fe5",
   "metadata": {},
   "source": [
    "### Harshit Shrivastava"
   ]
  },
  {
   "cell_type": "markdown",
   "id": "5dec9bd0",
   "metadata": {},
   "source": [
    "Mobile no.- 6268277844"
   ]
  },
  {
   "cell_type": "markdown",
   "id": "bbb8bb51",
   "metadata": {},
   "source": [
    "Address - Satna,Madhya Pradesh(485001)"
   ]
  },
  {
   "cell_type": "markdown",
   "id": "983ea175",
   "metadata": {},
   "source": [
    "Email-ID - harshitshrivastava923@gmail.com"
   ]
  },
  {
   "cell_type": "markdown",
   "id": "c111e685",
   "metadata": {},
   "source": [
    "Linkedin - [Click Here](https://www.linkedin.com/in/harshit-shrivastav-980852200/)\n",
    "\n",
    "Github - [Click Here](https://github.com/Harsh231100)\n",
    "\n",
    "Kaggle - [Click Here](https://www.kaggle.com/harshitshrivastavax2)\n",
    "\n",
    "Medium - [Click Here](https://medium.com/@harshitshrivastava923)"
   ]
  },
  {
   "cell_type": "markdown",
   "id": "d0475c98",
   "metadata": {},
   "source": [
    "> **Objective** - To obtain a challenging career in the IT industry and put all my efforts into the growth of the organization and have a great working environment."
   ]
  },
  {
   "cell_type": "markdown",
   "id": "ca77a028",
   "metadata": {},
   "source": [
    "> **Education Qualification**\n",
    "\n",
    "    > B.Tech Civil Engineering(CE) form Rajiv Gandhi Proudyogiki Vishwavidyalaya,University\n",
    "      Year of Completion - April/2023, \n",
    "      CGPA - 6.94\n",
    "  \n",
    "    > Intermediate form Madhya Pradesh Board\n",
    "      Year of Passing - 2019\n",
    "  "
   ]
  },
  {
   "cell_type": "markdown",
   "id": "b70aba0e",
   "metadata": {},
   "source": [
    "> **Experience**\n",
    "\n",
    "    > Fresher"
   ]
  },
  {
   "cell_type": "markdown",
   "id": "fd673752",
   "metadata": {},
   "source": [
    "> **Software and Computer Languages**\n",
    "\n",
    "    > Python programming(Basic)\n",
    "    > PowerBi\n",
    "    > AutoCAD\n",
    "    > MS-Excel\n",
    "    > MS-Word\n",
    "    > MS-PowerPoint"
   ]
  },
  {
   "cell_type": "markdown",
   "id": "1dce505c",
   "metadata": {},
   "source": [
    "> **Interests**\n",
    "\n",
    "    > Data Science\n",
    "    > Data Analytic\n",
    "    > data Modelling"
   ]
  },
  {
   "cell_type": "markdown",
   "id": "31061ef5",
   "metadata": {},
   "source": [
    "> **Key Strenght**\n",
    "\n",
    "    > Hard working and sincere.\n",
    "    > Keen to acquire knowledge.\n",
    "    > Comfortable working in a team as well as individually.\n",
    "    > A hard-working Pragmatic person having ability to accept challenges in life and completing \n",
    "      the assigned job.\n",
    "    > Focused."
   ]
  },
  {
   "cell_type": "markdown",
   "id": "d25d2731",
   "metadata": {},
   "source": [
    "> **Personal Information** \n",
    "\n",
    "    > Date of Birth  : 23/11/2000\n",
    "    > Father's Name  : Mr. Pramod Kumar Shrivastava\n",
    "    > Mothers Name   : Mrs. Shalini Shrivastava\n",
    "    > Gender         : Male\n",
    "    > Nationality    : Indian\n",
    "    > Religion       : Hindu\n",
    "    > Hobbies        : Travelling, Listening Music, Playing Games.\n",
    "    > Language Known : English & Hindi "
   ]
  },
  {
   "cell_type": "markdown",
   "id": "cc132546",
   "metadata": {},
   "source": [
    "> **Decleration**\n",
    "\n",
    "    I do hereby declare that all the above true to the best of my knowledge and belief.\n",
    "    \n",
    "    Date :-____________"
   ]
  },
  {
   "cell_type": "code",
   "execution_count": null,
   "id": "aef56949",
   "metadata": {},
   "outputs": [],
   "source": []
  }
 ],
 "metadata": {
  "kernelspec": {
   "display_name": "Python 3 (ipykernel)",
   "language": "python",
   "name": "python3"
  },
  "language_info": {
   "codemirror_mode": {
    "name": "ipython",
    "version": 3
   },
   "file_extension": ".py",
   "mimetype": "text/x-python",
   "name": "python",
   "nbconvert_exporter": "python",
   "pygments_lexer": "ipython3",
   "version": "3.11.5"
  }
 },
 "nbformat": 4,
 "nbformat_minor": 5
}
